{
 "cells": [
  {
   "cell_type": "code",
   "execution_count": 1,
   "id": "b4abb128",
   "metadata": {},
   "outputs": [
    {
     "name": "stderr",
     "output_type": "stream",
     "text": [
      "C:\\Users\\munee\\anaconda3\\lib\\site-packages\\scipy\\__init__.py:146: UserWarning: A NumPy version >=1.16.5 and <1.23.0 is required for this version of SciPy (detected version 1.24.3\n",
      "  warnings.warn(f\"A NumPy version >={np_minversion} and <{np_maxversion}\"\n"
     ]
    }
   ],
   "source": [
    "import pandas as pd\n",
    "import os\n",
    "import numpy\n",
    "import dicom2jpg\n",
    "import cv2\n",
    "import numpy as np\n",
    "import matplotlib.pyplot as plt\n",
    "from skimage.transform import resize"
   ]
  },
  {
   "cell_type": "code",
   "execution_count": 2,
   "id": "60c515ac",
   "metadata": {},
   "outputs": [],
   "source": [
    "scores_df = pd.read_csv(\"Clinical Scores.csv\")"
   ]
  },
  {
   "cell_type": "code",
   "execution_count": 3,
   "id": "4bd44abd",
   "metadata": {},
   "outputs": [
    {
     "data": {
      "text/html": [
       "<div>\n",
       "<style scoped>\n",
       "    .dataframe tbody tr th:only-of-type {\n",
       "        vertical-align: middle;\n",
       "    }\n",
       "\n",
       "    .dataframe tbody tr th {\n",
       "        vertical-align: top;\n",
       "    }\n",
       "\n",
       "    .dataframe thead th {\n",
       "        text-align: right;\n",
       "    }\n",
       "</style>\n",
       "<table border=\"1\" class=\"dataframe\">\n",
       "  <thead>\n",
       "    <tr style=\"text-align: right;\">\n",
       "      <th></th>\n",
       "      <th>Subject ID</th>\n",
       "      <th>Sex</th>\n",
       "      <th>Research Group</th>\n",
       "      <th>Visit</th>\n",
       "      <th>Age</th>\n",
       "      <th>MMSE Total Score</th>\n",
       "      <th>Global CDR</th>\n",
       "      <th>Description</th>\n",
       "    </tr>\n",
       "  </thead>\n",
       "  <tbody>\n",
       "    <tr>\n",
       "      <th>0</th>\n",
       "      <td>003_S_1057</td>\n",
       "      <td>F</td>\n",
       "      <td>MCI</td>\n",
       "      <td>ADNI1/GO Month 6</td>\n",
       "      <td>62.2</td>\n",
       "      <td>25.0</td>\n",
       "      <td>0.5</td>\n",
       "      <td>2nd adni recon</td>\n",
       "    </tr>\n",
       "    <tr>\n",
       "      <th>1</th>\n",
       "      <td>003_S_1057</td>\n",
       "      <td>F</td>\n",
       "      <td>MCI</td>\n",
       "      <td>ADNI1/GO Month 12</td>\n",
       "      <td>62.6</td>\n",
       "      <td>28.0</td>\n",
       "      <td>0.5</td>\n",
       "      <td>PET adni3</td>\n",
       "    </tr>\n",
       "    <tr>\n",
       "      <th>2</th>\n",
       "      <td>003_S_1057</td>\n",
       "      <td>F</td>\n",
       "      <td>MCI</td>\n",
       "      <td>ADNI1/GO Month 24</td>\n",
       "      <td>63.6</td>\n",
       "      <td>23.0</td>\n",
       "      <td>0.5</td>\n",
       "      <td>PET ADNI</td>\n",
       "    </tr>\n",
       "    <tr>\n",
       "      <th>3</th>\n",
       "      <td>003_S_1057</td>\n",
       "      <td>F</td>\n",
       "      <td>MCI</td>\n",
       "      <td>ADNI1/GO Month 36</td>\n",
       "      <td>64.5</td>\n",
       "      <td>23.0</td>\n",
       "      <td>1.0</td>\n",
       "      <td>PET ADNI</td>\n",
       "    </tr>\n",
       "    <tr>\n",
       "      <th>4</th>\n",
       "      <td>003_S_1074</td>\n",
       "      <td>F</td>\n",
       "      <td>MCI</td>\n",
       "      <td>ADNI1/GO Month 6</td>\n",
       "      <td>86.0</td>\n",
       "      <td>29.0</td>\n",
       "      <td>0.5</td>\n",
       "      <td>ADNI</td>\n",
       "    </tr>\n",
       "    <tr>\n",
       "      <th>...</th>\n",
       "      <td>...</td>\n",
       "      <td>...</td>\n",
       "      <td>...</td>\n",
       "      <td>...</td>\n",
       "      <td>...</td>\n",
       "      <td>...</td>\n",
       "      <td>...</td>\n",
       "      <td>...</td>\n",
       "    </tr>\n",
       "    <tr>\n",
       "      <th>850</th>\n",
       "      <td>941_S_1194</td>\n",
       "      <td>M</td>\n",
       "      <td>CN</td>\n",
       "      <td>ADNI1/GO Month 36</td>\n",
       "      <td>88.0</td>\n",
       "      <td>30.0</td>\n",
       "      <td>0.5</td>\n",
       "      <td>ADNI Brain PET: Raw</td>\n",
       "    </tr>\n",
       "    <tr>\n",
       "      <th>851</th>\n",
       "      <td>941_S_1202</td>\n",
       "      <td>M</td>\n",
       "      <td>CN</td>\n",
       "      <td>ADNI1/GO Month 6</td>\n",
       "      <td>78.2</td>\n",
       "      <td>30.0</td>\n",
       "      <td>0.0</td>\n",
       "      <td>ADNI Brain PET: Raw</td>\n",
       "    </tr>\n",
       "    <tr>\n",
       "      <th>852</th>\n",
       "      <td>941_S_1202</td>\n",
       "      <td>M</td>\n",
       "      <td>CN</td>\n",
       "      <td>ADNI1/GO Month 12</td>\n",
       "      <td>78.7</td>\n",
       "      <td>30.0</td>\n",
       "      <td>0.0</td>\n",
       "      <td>ADNI Brain PET: Raw</td>\n",
       "    </tr>\n",
       "    <tr>\n",
       "      <th>853</th>\n",
       "      <td>941_S_1202</td>\n",
       "      <td>M</td>\n",
       "      <td>CN</td>\n",
       "      <td>ADNI1/GO Month 24</td>\n",
       "      <td>79.7</td>\n",
       "      <td>30.0</td>\n",
       "      <td>0.5</td>\n",
       "      <td>ADNI Brain PET: Raw</td>\n",
       "    </tr>\n",
       "    <tr>\n",
       "      <th>854</th>\n",
       "      <td>941_S_1202</td>\n",
       "      <td>M</td>\n",
       "      <td>CN</td>\n",
       "      <td>ADNI1/GO Month 36</td>\n",
       "      <td>80.7</td>\n",
       "      <td>30.0</td>\n",
       "      <td>0.5</td>\n",
       "      <td>ADNI Brain PET: Raw</td>\n",
       "    </tr>\n",
       "  </tbody>\n",
       "</table>\n",
       "<p>855 rows × 8 columns</p>\n",
       "</div>"
      ],
      "text/plain": [
       "     Subject ID Sex Research Group              Visit   Age  MMSE Total Score  \\\n",
       "0    003_S_1057   F            MCI   ADNI1/GO Month 6  62.2              25.0   \n",
       "1    003_S_1057   F            MCI  ADNI1/GO Month 12  62.6              28.0   \n",
       "2    003_S_1057   F            MCI  ADNI1/GO Month 24  63.6              23.0   \n",
       "3    003_S_1057   F            MCI  ADNI1/GO Month 36  64.5              23.0   \n",
       "4    003_S_1074   F            MCI   ADNI1/GO Month 6  86.0              29.0   \n",
       "..          ...  ..            ...                ...   ...               ...   \n",
       "850  941_S_1194   M             CN  ADNI1/GO Month 36  88.0              30.0   \n",
       "851  941_S_1202   M             CN   ADNI1/GO Month 6  78.2              30.0   \n",
       "852  941_S_1202   M             CN  ADNI1/GO Month 12  78.7              30.0   \n",
       "853  941_S_1202   M             CN  ADNI1/GO Month 24  79.7              30.0   \n",
       "854  941_S_1202   M             CN  ADNI1/GO Month 36  80.7              30.0   \n",
       "\n",
       "     Global CDR          Description  \n",
       "0           0.5       2nd adni recon  \n",
       "1           0.5            PET adni3  \n",
       "2           0.5             PET ADNI  \n",
       "3           1.0             PET ADNI  \n",
       "4           0.5                 ADNI  \n",
       "..          ...                  ...  \n",
       "850         0.5  ADNI Brain PET: Raw  \n",
       "851         0.0  ADNI Brain PET: Raw  \n",
       "852         0.0  ADNI Brain PET: Raw  \n",
       "853         0.5  ADNI Brain PET: Raw  \n",
       "854         0.5  ADNI Brain PET: Raw  \n",
       "\n",
       "[855 rows x 8 columns]"
      ]
     },
     "execution_count": 3,
     "metadata": {},
     "output_type": "execute_result"
    }
   ],
   "source": [
    "scores_df"
   ]
  },
  {
   "cell_type": "code",
   "execution_count": 4,
   "id": "1ef1dbcb",
   "metadata": {},
   "outputs": [],
   "source": [
    "scores_df = scores_df.drop(columns = [\"Sex\", \"Age\", \"Research Group\", \"Description\"])"
   ]
  },
  {
   "cell_type": "code",
   "execution_count": 5,
   "id": "bb86a8c6",
   "metadata": {},
   "outputs": [],
   "source": [
    "def load_image(path = \".\"):\n",
    "    image = []\n",
    "    for i in os.listdir(path):\n",
    "        if i[-3:] == \"dcm\":\n",
    "            image.append(dicom2jpg.dicom2img(path + \"/\" + i))\n",
    "    image = np.array(image)\n",
    "    image = resize(image, (81, 168, 168))\n",
    "    return image"
   ]
  },
  {
   "cell_type": "code",
   "execution_count": 6,
   "id": "81670f7b",
   "metadata": {},
   "outputs": [],
   "source": [
    "def preprocess(image):\n",
    "    prepped_image = np.zeros((168, 186, 144))\n",
    "    for slice in range(len(prepped_image)):\n",
    "        test = np.rot90(image, k=1, axes=(2,0))[slice]\n",
    "        test2 = test[20: 140]\n",
    "        test3 = np.rot90(test2, k = 1, axes=(0,1))\n",
    "        test4 = np.flipud(cv2.resize(np.rot90(test3, k = 1, axes=(1,0)), (144, 186)))\n",
    "        prepped_image[slice] = test4\n",
    "    prepped_image = prepped_image[8:-8]\n",
    "    prepped_image = prepped_image[40:120]\n",
    "    resized_image = resize(prepped_image, (152, 186, 144))\n",
    "    return resized_image"
   ]
  },
  {
   "cell_type": "code",
   "execution_count": 7,
   "id": "84493eaa",
   "metadata": {},
   "outputs": [
    {
     "name": "stdout",
     "output_type": "stream",
     "text": [
      "79\n"
     ]
    }
   ],
   "source": [
    "subjects = []\n",
    "i = 0\n",
    "visits = [\"ADNI1/GO Month 6\", \"ADNI1/GO Month 12\", \"ADNI1/GO Month 24\", \"ADNI1/GO Month 36\"]\n",
    "for path in os.listdir():\n",
    "    if \".\" not in path and path != \"137_S_1414\":\n",
    "        if path in scores_df[\"Subject ID\"].unique():\n",
    "            temp = scores_df.loc[scores_df[\"Subject ID\"] == path]\n",
    "            flag = 0\n",
    "            for v in visits:\n",
    "                if v not in temp[\"Visit\"].unique():\n",
    "                    flag = 1\n",
    "                    break\n",
    "            if not flag:\n",
    "                subjects.append(path)\n",
    "                i += 1\n",
    "print(i)"
   ]
  },
  {
   "cell_type": "code",
   "execution_count": 8,
   "id": "143b7b74",
   "metadata": {},
   "outputs": [],
   "source": [
    "images = np.zeros((79, 152, 186, 144), dtype='uint8')"
   ]
  },
  {
   "cell_type": "code",
   "execution_count": 9,
   "id": "da733dc6",
   "metadata": {},
   "outputs": [],
   "source": [
    "scores = np.zeros((79, 8))"
   ]
  },
  {
   "cell_type": "code",
   "execution_count": 10,
   "id": "59bae486",
   "metadata": {},
   "outputs": [
    {
     "data": {
      "text/plain": [
       "['003_S_1057',\n",
       " '003_S_1074',\n",
       " '003_S_1122',\n",
       " '007_S_0101',\n",
       " '007_S_0128',\n",
       " '007_S_0344',\n",
       " '007_S_0698',\n",
       " '012_S_0634',\n",
       " '012_S_0637',\n",
       " '012_S_1133',\n",
       " '013_S_0502',\n",
       " '016_S_0359',\n",
       " '016_S_1092',\n",
       " '021_S_0141',\n",
       " '021_S_0178',\n",
       " '021_S_0231',\n",
       " '021_S_0424',\n",
       " '021_S_0626',\n",
       " '022_S_0066',\n",
       " '022_S_0096',\n",
       " '022_S_0130',\n",
       " '022_S_0961',\n",
       " '027_S_0074',\n",
       " '027_S_0120',\n",
       " '027_S_0408',\n",
       " '033_S_0513',\n",
       " '033_S_0567',\n",
       " '033_S_0723',\n",
       " '033_S_0734',\n",
       " '033_S_0741',\n",
       " '033_S_0906',\n",
       " '037_S_0150',\n",
       " '037_S_0327',\n",
       " '037_S_0377',\n",
       " '037_S_0454',\n",
       " '037_S_0566',\n",
       " '037_S_1078',\n",
       " '052_S_1346',\n",
       " '057_S_0464',\n",
       " '057_S_0779',\n",
       " '057_S_0818',\n",
       " '057_S_0934',\n",
       " '057_S_1007',\n",
       " '057_S_1217',\n",
       " '057_S_1265',\n",
       " '062_S_1299',\n",
       " '099_S_0051',\n",
       " '099_S_0054',\n",
       " '099_S_0090',\n",
       " '099_S_0291',\n",
       " '099_S_0352',\n",
       " '099_S_0533',\n",
       " '099_S_0534',\n",
       " '099_S_0551',\n",
       " '100_S_0047',\n",
       " '100_S_0995',\n",
       " '114_S_0173',\n",
       " '114_S_0378',\n",
       " '114_S_0416',\n",
       " '114_S_1106',\n",
       " '114_S_1118',\n",
       " '130_S_0232',\n",
       " '130_S_0285',\n",
       " '130_S_0289',\n",
       " '136_S_0695',\n",
       " '137_S_0283',\n",
       " '137_S_0301',\n",
       " '137_S_0443',\n",
       " '137_S_0459',\n",
       " '137_S_0481',\n",
       " '137_S_0669',\n",
       " '137_S_0686',\n",
       " '137_S_0722',\n",
       " '137_S_0800',\n",
       " '137_S_0972',\n",
       " '137_S_0973',\n",
       " '137_S_0994',\n",
       " '941_S_1194',\n",
       " '941_S_1202']"
      ]
     },
     "execution_count": 10,
     "metadata": {},
     "output_type": "execute_result"
    }
   ],
   "source": [
    "subjects"
   ]
  },
  {
   "cell_type": "code",
   "execution_count": 11,
   "id": "2545bd34",
   "metadata": {},
   "outputs": [
    {
     "data": {
      "text/html": [
       "<div>\n",
       "<style scoped>\n",
       "    .dataframe tbody tr th:only-of-type {\n",
       "        vertical-align: middle;\n",
       "    }\n",
       "\n",
       "    .dataframe tbody tr th {\n",
       "        vertical-align: top;\n",
       "    }\n",
       "\n",
       "    .dataframe thead th {\n",
       "        text-align: right;\n",
       "    }\n",
       "</style>\n",
       "<table border=\"1\" class=\"dataframe\">\n",
       "  <thead>\n",
       "    <tr style=\"text-align: right;\">\n",
       "      <th></th>\n",
       "      <th>Subject ID</th>\n",
       "      <th>Visit</th>\n",
       "      <th>MMSE Total Score</th>\n",
       "      <th>Global CDR</th>\n",
       "    </tr>\n",
       "  </thead>\n",
       "  <tbody>\n",
       "    <tr>\n",
       "      <th>842</th>\n",
       "      <td>137_S_1414</td>\n",
       "      <td>ADNI1/GO Month 6</td>\n",
       "      <td>28.0</td>\n",
       "      <td>0.5</td>\n",
       "    </tr>\n",
       "    <tr>\n",
       "      <th>843</th>\n",
       "      <td>137_S_1414</td>\n",
       "      <td>ADNI1/GO Month 6</td>\n",
       "      <td>28.0</td>\n",
       "      <td>0.5</td>\n",
       "    </tr>\n",
       "  </tbody>\n",
       "</table>\n",
       "</div>"
      ],
      "text/plain": [
       "     Subject ID             Visit  MMSE Total Score  Global CDR\n",
       "842  137_S_1414  ADNI1/GO Month 6              28.0         0.5\n",
       "843  137_S_1414  ADNI1/GO Month 6              28.0         0.5"
      ]
     },
     "execution_count": 11,
     "metadata": {},
     "output_type": "execute_result"
    }
   ],
   "source": [
    "scores_df.loc[(scores_df[\"Subject ID\"] == \"137_S_1414\") & (scores_df[\"Visit\"] == \"ADNI1/GO Month 6\")]"
   ]
  },
  {
   "cell_type": "code",
   "execution_count": 12,
   "id": "6a6b8aa8",
   "metadata": {},
   "outputs": [
    {
     "name": "stdout",
     "output_type": "stream",
     "text": [
      "0\n"
     ]
    },
    {
     "name": "stderr",
     "output_type": "stream",
     "text": [
      "C:\\Users\\munee\\anaconda3\\lib\\site-packages\\dicom2jpg\\utils.py:123: RuntimeWarning: invalid value encountered in divide\n",
      "  pixel_array = ((pixel_array-pixel_array.min())/(pixel_array.max()-pixel_array.min())) * 255.0\n",
      "C:\\Users\\munee\\anaconda3\\lib\\site-packages\\dicom2jpg\\utils.py:130: RuntimeWarning: invalid value encountered in cast\n",
      "  return pixel_array.astype('uint8')\n"
     ]
    },
    {
     "name": "stdout",
     "output_type": "stream",
     "text": [
      "10\n",
      "20\n",
      "30\n",
      "40\n",
      "50\n",
      "60\n",
      "70\n",
      "79\n"
     ]
    }
   ],
   "source": [
    "i = 0\n",
    "for subject in subjects:\n",
    "    if i%10 == 0:\n",
    "        print(i)\n",
    "    temp = scores_df.loc[scores_df[\"Subject ID\"] == subject]\n",
    "    images[i] = preprocess(load_image(subject))\n",
    "    subject_scores = []\n",
    "    for v in visits:\n",
    "        subject_scores.append(temp.loc[temp[\"Visit\"] == v][\"MMSE Total Score\"].to_numpy()[0])\n",
    "        subject_scores.append(temp.loc[temp[\"Visit\"] == v][\"Global CDR\"].to_numpy()[0])\n",
    "    scores[i] = np.array(subject_scores)\n",
    "    i += 1\n",
    "print(i)"
   ]
  },
  {
   "cell_type": "code",
   "execution_count": 13,
   "id": "13f1d892",
   "metadata": {},
   "outputs": [
    {
     "name": "stdout",
     "output_type": "stream",
     "text": [
      "0\n"
     ]
    },
    {
     "ename": "ValueError",
     "evalue": "could not broadcast input array from shape (3,) into shape (8,)",
     "output_type": "error",
     "traceback": [
      "\u001b[1;31m---------------------------------------------------------------------------\u001b[0m",
      "\u001b[1;31mValueError\u001b[0m                                Traceback (most recent call last)",
      "\u001b[1;32m~\\AppData\\Local\\Temp/ipykernel_18532/521795772.py\u001b[0m in \u001b[0;36m<module>\u001b[1;34m\u001b[0m\n\u001b[0;32m      6\u001b[0m                 \u001b[0mprint\u001b[0m\u001b[1;33m(\u001b[0m\u001b[0mi\u001b[0m\u001b[1;33m)\u001b[0m\u001b[1;33m\u001b[0m\u001b[1;33m\u001b[0m\u001b[0m\n\u001b[0;32m      7\u001b[0m             \u001b[0mimages\u001b[0m\u001b[1;33m[\u001b[0m\u001b[0mi\u001b[0m\u001b[1;33m]\u001b[0m \u001b[1;33m=\u001b[0m \u001b[0mpreprocess\u001b[0m\u001b[1;33m(\u001b[0m\u001b[0mload_image\u001b[0m\u001b[1;33m(\u001b[0m\u001b[0mpath\u001b[0m\u001b[1;33m)\u001b[0m\u001b[1;33m)\u001b[0m\u001b[1;33m\u001b[0m\u001b[1;33m\u001b[0m\u001b[0m\n\u001b[1;32m----> 8\u001b[1;33m             \u001b[0mscores\u001b[0m\u001b[1;33m[\u001b[0m\u001b[0mi\u001b[0m\u001b[1;33m]\u001b[0m \u001b[1;33m=\u001b[0m \u001b[0mscores_df\u001b[0m\u001b[1;33m[\u001b[0m\u001b[0mscores_df\u001b[0m\u001b[1;33m[\u001b[0m\u001b[1;34m\"Subject ID\"\u001b[0m\u001b[1;33m]\u001b[0m \u001b[1;33m==\u001b[0m \u001b[0mpath\u001b[0m\u001b[1;33m]\u001b[0m\u001b[1;33m.\u001b[0m\u001b[0mto_numpy\u001b[0m\u001b[1;33m(\u001b[0m\u001b[1;33m)\u001b[0m\u001b[1;33m[\u001b[0m\u001b[1;36m0\u001b[0m\u001b[1;33m]\u001b[0m\u001b[1;33m[\u001b[0m\u001b[1;36m1\u001b[0m\u001b[1;33m:\u001b[0m\u001b[1;33m]\u001b[0m\u001b[1;33m\u001b[0m\u001b[1;33m\u001b[0m\u001b[0m\n\u001b[0m\u001b[0;32m      9\u001b[0m             \u001b[0mi\u001b[0m \u001b[1;33m+=\u001b[0m \u001b[1;36m1\u001b[0m\u001b[1;33m\u001b[0m\u001b[1;33m\u001b[0m\u001b[0m\n",
      "\u001b[1;31mValueError\u001b[0m: could not broadcast input array from shape (3,) into shape (8,)"
     ]
    }
   ],
   "source": [
    "# i = 0\n",
    "# for path in os.listdir():\n",
    "#     if \".\" not in path and path != \"137_S_1414\":\n",
    "#         if path in scores_df[\"Subject ID\"].unique():\n",
    "#             if i%10 == 0:\n",
    "#                 print(i)\n",
    "#             images[i] = preprocess(load_image(path))\n",
    "#             scores[i] = scores_df[scores_df[\"Subject ID\"] == path].to_numpy()[0][1:]\n",
    "#             i += 1"
   ]
  },
  {
   "cell_type": "code",
   "execution_count": 14,
   "id": "00c0a330",
   "metadata": {},
   "outputs": [
    {
     "name": "stdout",
     "output_type": "stream",
     "text": [
      "0\n"
     ]
    }
   ],
   "source": [
    "print(i)"
   ]
  },
  {
   "cell_type": "code",
   "execution_count": 15,
   "id": "735bd248",
   "metadata": {},
   "outputs": [
    {
     "name": "stdout",
     "output_type": "stream",
     "text": [
      "False\n",
      "False\n"
     ]
    }
   ],
   "source": [
    "print(numpy.isnan(images).any())\n",
    "print(numpy.isnan(scores).any())"
   ]
  },
  {
   "cell_type": "code",
   "execution_count": 16,
   "id": "908d2d75",
   "metadata": {},
   "outputs": [
    {
     "data": {
      "text/plain": [
       "(79, 8)"
      ]
     },
     "execution_count": 16,
     "metadata": {},
     "output_type": "execute_result"
    }
   ],
   "source": [
    "scores.shape"
   ]
  },
  {
   "cell_type": "code",
   "execution_count": 17,
   "id": "e8d9cbd1",
   "metadata": {},
   "outputs": [
    {
     "data": {
      "text/plain": [
       "array([[25. ,  0.5, 28. ,  0.5, 23. ,  0.5, 23. ,  1. ],\n",
       "       [29. ,  0.5, 29. ,  0.5, 29. ,  0.5, 27. ,  0. ],\n",
       "       [29. ,  0.5, 29. ,  0.5, 30. ,  0.5, 30. ,  0.5],\n",
       "       [29. ,  0.5, 27. ,  0.5, 28. ,  0.5, 25. ,  0.5],\n",
       "       [27. ,  0.5, 29. ,  0.5, 25. ,  1. , 26. ,  1. ],\n",
       "       [24. ,  0.5, 22. ,  0.5, 23. ,  1. , 20. ,  1. ],\n",
       "       [29. ,  0.5, 29. ,  0.5, 29. ,  0.5, 30. ,  0.5],\n",
       "       [26. ,  0.5, 29. ,  0.5, 26. ,  0.5, 30. ,  0.5],\n",
       "       [30. ,  0. , 29. ,  0.5, 30. ,  0. , 30. ,  0. ],\n",
       "       [29. ,  0. , 30. ,  0. , 30. ,  0. , 30. ,  0. ],\n",
       "       [30. ,  0. , 30. ,  0. , 28. ,  0. , 28. ,  0. ],\n",
       "       [30. ,  0. , 29. ,  0. , 30. ,  0. , 30. ,  0. ],\n",
       "       [29. ,  0.5, 29. ,  0.5, 29. ,  0. , 24. ,  0. ],\n",
       "       [27. ,  0.5, 27. ,  1. , 23. ,  1. , 24. ,  1. ],\n",
       "       [30. ,  0.5, 29. ,  0.5, 30. ,  0.5, 30. ,  0.5],\n",
       "       [28. ,  0.5, 29. ,  0.5, 25. ,  1. , 27. ,  1. ],\n",
       "       [25. ,  0.5, 27. ,  0.5, 28. ,  0.5, 27. ,  0.5],\n",
       "       [23. ,  0.5, 25. ,  0.5, 23. ,  0.5, 24. ,  0.5],\n",
       "       [30. ,  0. , 30. ,  0. , 28. ,  0. , 29. ,  0. ],\n",
       "       [29. ,  0. , 30. ,  0. , 28. ,  0. , 30. ,  0. ],\n",
       "       [30. ,  0. , 28. ,  0. , 30. ,  0. , 29. ,  0. ],\n",
       "       [21. ,  0.5, 24. ,  0.5, 23. ,  0.5, 24. ,  0.5],\n",
       "       [30. ,  0. , 30. ,  0. , 30. ,  0. , 30. ,  0. ],\n",
       "       [29. ,  0. , 28. ,  0. , 29. ,  0. , 29. ,  0. ],\n",
       "       [27. ,  0.5, 26. ,  0.5, 25. ,  0.5, 27. ,  1. ],\n",
       "       [30. ,  0.5, 29. ,  0.5, 28. ,  0.5, 25. ,  1. ],\n",
       "       [25. ,  1. , 25. ,  1. , 23. ,  1. , 20. ,  2. ],\n",
       "       [25. ,  0.5, 26. ,  0.5, 22. ,  1. , 23. ,  2. ],\n",
       "       [29. ,  0. , 30. ,  0. , 30. ,  0. , 29. ,  0. ],\n",
       "       [30. ,  0. , 30. ,  0. , 30. ,  0. , 30. ,  0. ],\n",
       "       [25. ,  0.5, 25. ,  0.5, 24. ,  1. , 23. ,  1. ],\n",
       "       [29. ,  0.5, 29. ,  0.5, 28. ,  0.5, 27. ,  0.5],\n",
       "       [29. ,  0. , 28. ,  0. , 29. ,  0.5, 28. ,  0. ],\n",
       "       [26. ,  0.5, 28. ,  0.5, 29. ,  0.5, 30. ,  0. ],\n",
       "       [29. ,  0. , 29. ,  0. , 29. ,  0. , 30. ,  0. ],\n",
       "       [28. ,  0.5, 26. ,  0.5, 27. ,  0.5, 25. ,  1. ],\n",
       "       [28. ,  0.5, 27. ,  1. , 26. ,  1. , 24. ,  3. ],\n",
       "       [28. ,  0.5, 29. ,  0.5, 29. ,  0.5, 28. ,  1. ],\n",
       "       [29. ,  0.5, 28. ,  0.5, 30. ,  0.5, 29. ,  0.5],\n",
       "       [29. ,  0. , 28. ,  0. , 26. ,  0.5, 29. ,  0.5],\n",
       "       [28. ,  0. , 30. ,  0. , 30. ,  0. , 30. ,  0. ],\n",
       "       [28. ,  0. , 30. ,  0. , 30. ,  0. , 30. ,  0. ],\n",
       "       [30. ,  0.5, 29. ,  0.5, 25. ,  1. , 26. ,  1. ],\n",
       "       [30. ,  0.5, 27. ,  0.5, 27. ,  0.5, 30. ,  1. ],\n",
       "       [29. ,  0.5, 29. ,  0.5, 27. ,  0.5, 27. ,  0.5],\n",
       "       [22. ,  0.5, 22. ,  0.5, 19. ,  0.5, 18. ,  0.5],\n",
       "       [28. ,  0.5, 28. ,  0.5, 28. ,  0.5, 26. ,  0.5],\n",
       "       [23. ,  0.5, 23. ,  1. , 19. ,  2. , 19. ,  2. ],\n",
       "       [30. ,  0. , 30. ,  0. , 30. ,  0. , 30. ,  0. ],\n",
       "       [30. ,  0. , 28. ,  0.5, 30. ,  0. , 28. ,  0. ],\n",
       "       [30. ,  0. , 30. ,  0. , 30. ,  0. , 30. ,  0. ],\n",
       "       [29. ,  0. , 30. ,  0. , 29. ,  0. , 30. ,  0. ],\n",
       "       [29. ,  0. , 28. ,  0. , 29. ,  0. , 29. ,  0. ],\n",
       "       [28. ,  0. , 30. ,  0. , 29. ,  0. , 29. ,  0. ],\n",
       "       [28. ,  0. , 30. ,  0. , 29. ,  0. , 30. ,  0. ],\n",
       "       [23. ,  0.5, 23. ,  1. , 21. ,  1. , 21. ,  1. ],\n",
       "       [30. ,  0. , 30. ,  0. , 30. ,  0. , 30. ,  0. ],\n",
       "       [29. ,  0.5, 28. ,  0.5, 26. ,  0.5, 27. ,  0.5],\n",
       "       [30. ,  0. , 28. ,  0. , 30. ,  0. , 30. ,  0.5],\n",
       "       [30. ,  0.5, 29. ,  0.5, 28. ,  0.5, 29. ,  0.5],\n",
       "       [28. ,  0.5, 28. ,  0.5, 28. ,  0.5, 27. ,  0.5],\n",
       "       [30. ,  0. , 30. ,  0. , 29. ,  0. , 28. ,  0.5],\n",
       "       [29. ,  0.5, 30. ,  0.5, 29. ,  0.5, 28. ,  0.5],\n",
       "       [28. ,  0.5, 28. ,  0.5, 25. ,  0.5, 25. ,  0.5],\n",
       "       [24. ,  0.5, 19. ,  0.5, 13. ,  0.5, 17. ,  1. ],\n",
       "       [29. ,  0. , 30. ,  0. , 30. ,  0. , 29. ,  0. ],\n",
       "       [30. ,  0. , 28. ,  0. , 28. ,  0. , 30. ,  0. ],\n",
       "       [27. ,  0.5, 29. ,  0. , 30. ,  0. , 30. ,  0.5],\n",
       "       [29. ,  0. , 29. ,  0.5, 30. ,  0.5, 29. ,  0. ],\n",
       "       [22. ,  0.5, 28. ,  0.5, 28. ,  0.5, 27. ,  0.5],\n",
       "       [29. ,  0. , 28. ,  0.5, 25. ,  0. , 29. ,  0.5],\n",
       "       [29. ,  0. , 30. ,  0. , 30. ,  0. , 27. ,  0. ],\n",
       "       [30. ,  0.5, 28. ,  0. , 29. ,  0. , 28. ,  0. ],\n",
       "       [28. ,  0.5, 28. ,  0.5, 30. ,  0. , 29. ,  0. ],\n",
       "       [27. ,  0. , 30. ,  0. , 28. ,  0. , 29. ,  0. ],\n",
       "       [25. ,  0.5, 29. ,  0.5, 27. ,  0.5, 23. ,  0.5],\n",
       "       [26. ,  0.5, 25. ,  0.5, 28. ,  0.5, 25. ,  0.5],\n",
       "       [29. ,  0. , 30. ,  0. , 30. ,  0. , 30. ,  0.5],\n",
       "       [30. ,  0. , 30. ,  0. , 30. ,  0.5, 30. ,  0.5]])"
      ]
     },
     "execution_count": 17,
     "metadata": {},
     "output_type": "execute_result"
    }
   ],
   "source": [
    "scores"
   ]
  },
  {
   "cell_type": "code",
   "execution_count": 21,
   "id": "7932bdd7",
   "metadata": {},
   "outputs": [],
   "source": [
    "np.save(\"images2\", images)\n",
    "np.save(\"scores2\", scores)"
   ]
  }
 ],
 "metadata": {
  "kernelspec": {
   "display_name": "Python 3 (ipykernel)",
   "language": "python",
   "name": "python3"
  },
  "language_info": {
   "codemirror_mode": {
    "name": "ipython",
    "version": 3
   },
   "file_extension": ".py",
   "mimetype": "text/x-python",
   "name": "python",
   "nbconvert_exporter": "python",
   "pygments_lexer": "ipython3",
   "version": "3.9.7"
  }
 },
 "nbformat": 4,
 "nbformat_minor": 5
}
